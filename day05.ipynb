{
 "cells": [
  {
   "cell_type": "code",
   "execution_count": 1,
   "id": "dd8ed17c-3be7-4653-9ca0-aa766ef76783",
   "metadata": {},
   "outputs": [],
   "source": [
    "input_file = \"day05/input\"\n",
    "lines = [l.strip() for l in open(input_file, \"r\").readlines()]"
   ]
  },
  {
   "cell_type": "code",
   "execution_count": 2,
   "id": "b6191658-4a4c-4181-a190-bd99d7ecd212",
   "metadata": {},
   "outputs": [],
   "source": [
    "import more_itertools\n",
    "groupped = list(more_itertools.split_at(lines, lambda x: x == ''))\n",
    "seeds = groupped[0][0]\n",
    "mappings = groupped[1:]\n",
    "\n",
    "seeds = [int(x.strip()) for x in seeds.split(':')[1].strip().split(' ')]"
   ]
  },
  {
   "cell_type": "code",
   "execution_count": 3,
   "id": "e40a15c9-1eed-4036-b249-44d0ec39108e",
   "metadata": {},
   "outputs": [],
   "source": [
    "import collections\n",
    "import re\n",
    "\n",
    "Range = collections.namedtuple(\"Range\", [\"target_start\", \"source_start\", \"length\"])\n",
    "Mapping = collections.namedtuple(\"Mapping\", [\"source\", \"target\", \"ranges\"])\n",
    "\n",
    "mapping_r = re.compile(\"([a-z]+)-to-([a-z]+)\")\n",
    "def parse_mapping(lines):\n",
    "    def get_range(line):\n",
    "        return Range(*map(int, line.split(' ')))\n",
    "    header = mapping_r.match(lines[0])\n",
    "    ranges = list(map(get_range, lines[1:]))\n",
    "    return Mapping(header.group(1), header.group(2), ranges)\n",
    "\n",
    "mappings = dict((m.source, m) for m in map(parse_mapping, mappings))"
   ]
  },
  {
   "cell_type": "code",
   "execution_count": 4,
   "id": "807916a6-0add-445b-abee-6c46d7bf1a70",
   "metadata": {},
   "outputs": [
    {
     "name": "stdout",
     "output_type": "stream",
     "text": [
      "Part 1: 510109797\n"
     ]
    }
   ],
   "source": [
    "def find_location(seed):\n",
    "    source = \"seed\"\n",
    "    target = None\n",
    "    value = seed\n",
    "\n",
    "    while target != \"location\":\n",
    "        target_mapping = mappings[source]\n",
    "        target = target_mapping.target\n",
    "        source = target\n",
    "        mr = [r for r in target_mapping.ranges if r.source_start <= value < r.source_start + r.length]\n",
    "        value = mr[0].target_start + value - mr[0].source_start if mr else value\n",
    "    return value\n",
    "\n",
    "print(f\"Part 1: {min(map(find_location, seeds))}\")"
   ]
  },
  {
   "cell_type": "code",
   "execution_count": 5,
   "id": "d9a557f2-91e0-488c-af19-3a67439e89e8",
   "metadata": {},
   "outputs": [
    {
     "name": "stdout",
     "output_type": "stream",
     "text": [
      "Part 2: 9622622\n"
     ]
    }
   ],
   "source": [
    "class Interval(object): # start inclusive, end exclusive\n",
    "    def __init__(self, start, end):\n",
    "        self.start = start\n",
    "        self.end = end\n",
    "\n",
    "    def overlap(self, other): # ret: Interval?, [Interval] - first is overlap (if any), second \"holes\"\n",
    "        if other.end <= self.start or other.start >= self.end:\n",
    "            return (None, [self])\n",
    "        o = Interval(max(self.start, other.start), min(self.end, other.end))\n",
    "        h = []\n",
    "        if self.end > other.end:\n",
    "            h = h + [Interval(o.end, self.end)]\n",
    "        if self.start < other.start:\n",
    "            h = h + [Interval(self.start, other.start)]\n",
    "        return (o, h)\n",
    "\n",
    "    def __repr__(self):\n",
    "        return f\"[{self.start}, {self.end})\"\n",
    "\n",
    "def apply_mapping(interval, mapping): # yields 1+ mapped intervals\n",
    "    unmappeds = [interval]\n",
    "    mapped = []\n",
    "    for r in mapping.ranges:\n",
    "        nu = []\n",
    "        for unmapped in unmappeds:\n",
    "            m, h = unmapped.overlap(Interval(r.source_start, r.source_start + r.length))\n",
    "            if m:\n",
    "                delta = r.target_start - r.source_start\n",
    "                mapped.append(Interval(m.start + delta, m.end + delta))\n",
    "            nu = nu + h\n",
    "        unmappeds = nu\n",
    "    return mapped + unmappeds\n",
    "            \n",
    "import functools\n",
    "def find_location2(seed_interval):\n",
    "    source = \"seed\"\n",
    "    target = None\n",
    "    value = [seed_interval]\n",
    "\n",
    "    while target != \"location\":\n",
    "        target_mapping = mappings[source]\n",
    "        target = target_mapping.target\n",
    "        source = target\n",
    "\n",
    "        value = functools.reduce(lambda x, y: x + y, [apply_mapping(i, target_mapping) for i in value], [])\n",
    "    location = min(map(lambda interval: interval.start, value))\n",
    "    return location\n",
    "\n",
    "import itertools\n",
    "seeds = list(itertools.starmap(lambda start, length: Interval(start, start + length), more_itertools.sliced(seeds, 2)))\n",
    "print(f\"Part 2: {min(map(find_location2, seeds))}\")\n"
   ]
  }
 ],
 "metadata": {
  "kernelspec": {
   "display_name": "Python 3 (ipykernel)",
   "language": "python",
   "name": "python3"
  },
  "language_info": {
   "codemirror_mode": {
    "name": "ipython",
    "version": 3
   },
   "file_extension": ".py",
   "mimetype": "text/x-python",
   "name": "python",
   "nbconvert_exporter": "python",
   "pygments_lexer": "ipython3",
   "version": "3.11.6"
  }
 },
 "nbformat": 4,
 "nbformat_minor": 5
}
