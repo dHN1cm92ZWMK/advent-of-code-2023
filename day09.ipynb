{
 "cells": [
  {
   "cell_type": "code",
   "execution_count": 1,
   "id": "f6f5602c-41be-4e55-8d31-7a8426acb7b4",
   "metadata": {},
   "outputs": [],
   "source": [
    "input_file = \"day09/input\"\n",
    "lines = [l.strip() for l in open(input_file, \"r\").readlines()]\n",
    "\n",
    "import re\n",
    "num_r = re.compile(\"-?\\\\d+\")\n",
    "sequences = [[int(n) for n in num_r.findall(l)] for l in lines] "
   ]
  },
  {
   "cell_type": "code",
   "execution_count": 2,
   "id": "a0e339c3-a840-4bdf-abfe-3c794a7d3354",
   "metadata": {},
   "outputs": [
    {
     "name": "stdout",
     "output_type": "stream",
     "text": [
      "Part 1: 1887980197\n",
      "Part 2: 990\n"
     ]
    }
   ],
   "source": [
    "import itertools\n",
    "\n",
    "def diff(sequence):\n",
    "    return list(itertools.starmap(int.__rsub__, itertools.pairwise(sequence)))\n",
    "\n",
    "def next_value(sequence):\n",
    "    if all([n == 0 for n in sequence]):\n",
    "        return 0\n",
    "    else:\n",
    "        return sequence[-1] + next_value(diff(sequence))\n",
    "\n",
    "print(f\"Part 1: {sum(map(next_value, sequences))}\")\n",
    "print(f\"Part 2: {sum(map(next_value, [s[::-1] for s in sequences]))}\")"
   ]
  }
 ],
 "metadata": {
  "kernelspec": {
   "display_name": "Python 3 (ipykernel)",
   "language": "python",
   "name": "python3"
  },
  "language_info": {
   "codemirror_mode": {
    "name": "ipython",
    "version": 3
   },
   "file_extension": ".py",
   "mimetype": "text/x-python",
   "name": "python",
   "nbconvert_exporter": "python",
   "pygments_lexer": "ipython3",
   "version": "3.11.6"
  }
 },
 "nbformat": 4,
 "nbformat_minor": 5
}
