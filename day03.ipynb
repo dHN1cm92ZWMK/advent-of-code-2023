{
 "cells": [
  {
   "cell_type": "code",
   "execution_count": 1,
   "id": "2892b210-d017-4bc5-9561-90980e11b0ca",
   "metadata": {},
   "outputs": [],
   "source": [
    "input_file = \"day03/input\"\n",
    "lines = open(input_file, \"r\").readlines()"
   ]
  },
  {
   "cell_type": "code",
   "execution_count": 2,
   "id": "5d5b8a95-37be-4669-b49b-6cae03c08790",
   "metadata": {},
   "outputs": [],
   "source": [
    "import collections\n",
    "\n",
    "Coords = collections.namedtuple(\"Coords\", [\"x\", \"y\"])\n",
    "Symbol = collections.namedtuple(\"Symbol\", [\"symbol\", \"coords\"])\n",
    "Number = collections.namedtuple(\"Number\", [\"number\", \"coords\"])\n",
    "\n",
    "def get_symbols(line: str, y: int): # rets list of Symbol\n",
    "    return [Symbol(s[0], Coords(s[1], y)) for s in zip(line, range(len(line))) if s[0] != '.' and not s[0].isnumeric()]\n",
    "\n",
    "def where(pred, iter, start=0): # returns first index where pred is true (or -1)\n",
    "    t = [x[1] for x in zip(iter, range(len(iter))) if x[1] >= start and pred(x[0])]\n",
    "    return t[0] if t else -1\n",
    "\n",
    "def get_numbers(line, y): # rets list of Number\n",
    "    result = []\n",
    "    start = where(str.isnumeric, line, 0)\n",
    "    while start >= 0:\n",
    "        end = where(lambda c: not c.isnumeric(), line, start)\n",
    "        if end >= 0:\n",
    "            result = result + [Number(line[start:end], Coords(start, y))]\n",
    "            start = end + 1\n",
    "        else:\n",
    "            result = result + [Number(line[start:], Coords(start, y))]\n",
    "            start = len(line)\n",
    "        start = where(str.isnumeric, line, start)\n",
    "    return result\n",
    "\n",
    "import functools\n",
    "\n",
    "lines = list(map(str.strip, lines))\n",
    "symbols = [get_symbols(*s) for s in zip(lines, range(len(lines)))]\n",
    "symbols = functools.reduce(lambda x, y: x + y, symbols, [])\n",
    "\n",
    "numbers = [get_numbers(*s) for s in zip(lines, range(len(lines)))]\n",
    "numbers = functools.reduce(lambda x, y: x + y, numbers, [])"
   ]
  },
  {
   "cell_type": "code",
   "execution_count": 3,
   "id": "0a565b0d-acff-4681-b67b-4f44386a4ad4",
   "metadata": {},
   "outputs": [
    {
     "name": "stdout",
     "output_type": "stream",
     "text": [
      "Part 1: 532428\n"
     ]
    }
   ],
   "source": [
    "def is_adjacent(number, symbol):\n",
    "    nx, ny = number.coords\n",
    "    nlen = len(number.number) \n",
    "    sx, sy = symbol.coords\n",
    "    return (nx - 1 <= sx <= nx + nlen) and (ny - 1 <= sy <= ny + 1)\n",
    "def is_part(number, symbols): # true iff there is a symbol adjacent to the number\n",
    "    return any(map(lambda s: is_adjacent(number, s), symbols))\n",
    "\n",
    "parts = [int(n.number) for n in numbers if is_part(n, symbols)]\n",
    "print(f\"Part 1: {sum(parts)}\")"
   ]
  },
  {
   "cell_type": "code",
   "execution_count": 4,
   "id": "955a9e7c-68f8-465d-a20f-9b74f3cc0947",
   "metadata": {},
   "outputs": [
    {
     "name": "stdout",
     "output_type": "stream",
     "text": [
      "Part 2: 84051670\n"
     ]
    }
   ],
   "source": [
    "def gear_ratio(symbol): # returns gear ratio or 0\n",
    "    if symbol.symbol != '*':\n",
    "        return 0\n",
    "    adjacent_parts = [n for n in numbers if is_adjacent(n, symbol)]\n",
    "    if len(adjacent_parts) == 2:\n",
    "        return int(adjacent_parts[0].number) * int(adjacent_parts[1].number)\n",
    "    else:\n",
    "        return 0\n",
    "\n",
    "print(f\"Part 2: {sum(map(gear_ratio, symbols))}\")"
   ]
  }
 ],
 "metadata": {
  "kernelspec": {
   "display_name": "Python 3 (ipykernel)",
   "language": "python",
   "name": "python3"
  },
  "language_info": {
   "codemirror_mode": {
    "name": "ipython",
    "version": 3
   },
   "file_extension": ".py",
   "mimetype": "text/x-python",
   "name": "python",
   "nbconvert_exporter": "python",
   "pygments_lexer": "ipython3",
   "version": "3.11.6"
  }
 },
 "nbformat": 4,
 "nbformat_minor": 5
}
