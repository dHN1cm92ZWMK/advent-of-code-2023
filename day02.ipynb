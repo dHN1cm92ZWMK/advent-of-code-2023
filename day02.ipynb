{
 "cells": [
  {
   "cell_type": "code",
   "execution_count": 48,
   "id": "07eec33d-b36b-4f98-bf0c-38c427ed88f9",
   "metadata": {
    "tags": []
   },
   "outputs": [],
   "source": [
    "input_file = \"day02/input\"\n",
    "lines = open(input_file, \"r\").readlines()"
   ]
  },
  {
   "cell_type": "code",
   "execution_count": 52,
   "id": "74bec5a0-5a97-49d9-a1e7-2f957a269d48",
   "metadata": {},
   "outputs": [
    {
     "name": "stdout",
     "output_type": "stream",
     "text": [
      "Part 1: 2810\n",
      "Part 2: 69110\n"
     ]
    }
   ],
   "source": [
    "import re\n",
    "\n",
    "# why this has to be outside?\n",
    "red_r = re.compile(\"(\\\\d+) red\")\n",
    "green_r = re.compile(\"(\\\\d+) green\")\n",
    "blue_r = re.compile(\"(\\\\d+) blue\")\n",
    "class CubeSet(object):\n",
    "    def __init__(self, setstr):\n",
    "        self.red = None\n",
    "        self.green = None\n",
    "        self.blue = None\n",
    "        if red_r.search(setstr):\n",
    "            self.red = int(red_r.search(setstr).group(1))\n",
    "        if green_r.search(setstr):\n",
    "            self.green = int(green_r.search(setstr).group(1))\n",
    "        if blue_r.search(setstr):\n",
    "            self.blue = int(blue_r.search(setstr).group(1))\n",
    "            \n",
    "    def possible_for(self, r, g, b):\n",
    "        return (self.red is None or self.red <= r) and  (self.green is None or self.green <= g) and (self.blue is None or self.blue <= b) \n",
    "        \n",
    "    def __str__(self):\n",
    "        return f\"R={self.red}, G={self.green}, B={self.blue}\"\n",
    "\n",
    "class Game(object):\n",
    "    game_r = re.compile(\"Game (\\\\d+)\")\n",
    "    \n",
    "    def __init__(self, line):\n",
    "        game, dice = line.split(\":\")\n",
    "        dice = [s.strip() for s in dice.split(\";\")]\n",
    "        \n",
    "        self.game_no = int(game_r.match(game).group(1))\n",
    "        self.cube_sets = [CubeSet(setstr) for setstr in dice]\n",
    "\n",
    "    def possible_for(self, r, g, b):\n",
    "        return all([x.possible_for(r, g, b) for x in self.cube_sets]) \n",
    "\n",
    "    def power(self):\n",
    "        r = max([x.red for x in self.cube_sets if x.red is not None])\n",
    "        g = max([x.green for x in self.cube_sets if x.green is not None])\n",
    "        b = max([x.blue for x in self.cube_sets if x.blue is not None])\n",
    "        return r * g * b\n",
    "\n",
    "    def __str__(self):\n",
    "        return f\"Game no. {self.game_no}; [{len(self.cube_sets)}]:\\t\\n\" + \"\\t\\n\".join([x.__str__() for x in self.cube_sets])\n",
    "\n",
    "games = [Game(line) for line in lines]\n",
    "possible_games = [game.game_no for game in games if game.possible_for(12, 13, 14)]\n",
    "\n",
    "print(f\"Part 1: {sum(possible_games)}\")\n",
    "print(f\"Part 2: {sum(map(Game.power, games))}\")"
   ]
  }
 ],
 "metadata": {
  "kernelspec": {
   "display_name": "Python 3 (ipykernel)",
   "language": "python",
   "name": "python3"
  },
  "language_info": {
   "codemirror_mode": {
    "name": "ipython",
    "version": 3
   },
   "file_extension": ".py",
   "mimetype": "text/x-python",
   "name": "python",
   "nbconvert_exporter": "python",
   "pygments_lexer": "ipython3",
   "version": "3.11.6"
  }
 },
 "nbformat": 4,
 "nbformat_minor": 5
}
