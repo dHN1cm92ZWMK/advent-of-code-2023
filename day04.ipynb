{
 "cells": [
  {
   "cell_type": "code",
   "execution_count": 1,
   "id": "26e8e592-bc9c-413f-b089-8e52c456ec63",
   "metadata": {},
   "outputs": [],
   "source": [
    "input_file = \"day04/input\"\n",
    "lines = open(input_file, \"r\").readlines()"
   ]
  },
  {
   "cell_type": "code",
   "execution_count": 2,
   "id": "67159b5c-ed40-480d-bc11-e51344ff96c3",
   "metadata": {},
   "outputs": [
    {
     "name": "stdout",
     "output_type": "stream",
     "text": [
      "Part 1: 17782\n"
     ]
    }
   ],
   "source": [
    "import collections\n",
    "import re\n",
    "\n",
    "Card = collections.namedtuple(\"Card\", [\"id\", \"winning_numbers\", \"numbers\"])\n",
    "\n",
    "\n",
    "num_r = re.compile(\"(\\\\d+)\")\n",
    "\n",
    "def get_card(line):\n",
    "    c, r = line.split(':')\n",
    "    wn, n = r.split('|')\n",
    "    return Card(int(num_r.findall(c)[0]), set([int(x) for x in num_r.findall(wn)]), set([int(x) for x in num_r.findall(n)]))\n",
    "\n",
    "def get_points(card):\n",
    "    common = len(card.winning_numbers & card.numbers)\n",
    "    if common == 0:\n",
    "        return 0\n",
    "    else:\n",
    "        return int(pow(2, common - 1))\n",
    "\n",
    "cards = list(map(get_card, lines))\n",
    "print(f\"Part 1: {sum(map(get_points, cards))}\")"
   ]
  },
  {
   "cell_type": "code",
   "execution_count": 3,
   "id": "38a5433d-6b6f-449e-9d0e-b2200fc62185",
   "metadata": {},
   "outputs": [],
   "source": [
    "copies = dict([(i, 1) for i in range(1, len(cards) + 1)])"
   ]
  },
  {
   "cell_type": "code",
   "execution_count": 4,
   "id": "b25cde3a-d9ad-440e-86d1-46d9927bf155",
   "metadata": {},
   "outputs": [
    {
     "name": "stdout",
     "output_type": "stream",
     "text": [
      "Part 2: 8477787\n"
     ]
    }
   ],
   "source": [
    "for card in cards:\n",
    "    matching = len(card.winning_numbers & card.numbers)\n",
    "    for x in range(card.id + 1, card.id + matching + 1):\n",
    "        copies[x] = copies[x] + copies[card.id]\n",
    "\n",
    "print(f\"Part 2: {sum(copies.values())}\")"
   ]
  }
 ],
 "metadata": {
  "kernelspec": {
   "display_name": "Python 3 (ipykernel)",
   "language": "python",
   "name": "python3"
  },
  "language_info": {
   "codemirror_mode": {
    "name": "ipython",
    "version": 3
   },
   "file_extension": ".py",
   "mimetype": "text/x-python",
   "name": "python",
   "nbconvert_exporter": "python",
   "pygments_lexer": "ipython3",
   "version": "3.11.6"
  }
 },
 "nbformat": 4,
 "nbformat_minor": 5
}
