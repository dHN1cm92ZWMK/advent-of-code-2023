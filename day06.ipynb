{
 "cells": [
  {
   "cell_type": "code",
   "execution_count": 1,
   "id": "e7661705-26ac-4720-8577-cd8959e1657c",
   "metadata": {},
   "outputs": [],
   "source": [
    "input_file = \"day06/test_input\"\n",
    "lines = [l.strip() for l in open(input_file, \"r\").readlines()]\n",
    "\n",
    "import re\n",
    "num_r = re.compile(\"(\\\\d+)\")\n",
    "times = map(int, num_r.findall(lines[0]))\n",
    "records = map(int, num_r.findall(lines[1]))\n",
    "\n",
    "races = list(zip(times, records))"
   ]
  },
  {
   "cell_type": "code",
   "execution_count": 2,
   "id": "2c9badba-0f85-4431-9866-3f33b1d21ff0",
   "metadata": {},
   "outputs": [
    {
     "name": "stdout",
     "output_type": "stream",
     "text": [
      "Part 1: 288\n"
     ]
    }
   ],
   "source": [
    "import itertools\n",
    "import functools\n",
    "import math\n",
    "\n",
    "def winning_ways(time, record):\n",
    "    D = time * time - 4 * record\n",
    "\n",
    "    # compute lower and upper times where we beat record\n",
    "    l = math.ceil((time - math.sqrt(D)) / 2)\n",
    "    h = math.floor((time + math.sqrt(D)) / 2)\n",
    "\n",
    "    result = h - l + 1\n",
    "    # adjustment for cases when the time is the same as record\n",
    "    if l * (time - l) == record:\n",
    "        result -= 2\n",
    "\n",
    "    return result\n",
    "\n",
    "part1 = functools.reduce(int.__mul__, itertools.starmap(winning_ways, races), 1) \n",
    "\n",
    "print(f\"Part 1: {part1}\")"
   ]
  },
  {
   "cell_type": "code",
   "execution_count": 3,
   "id": "3e9aa526-2d92-4366-9064-8cc88885518d",
   "metadata": {},
   "outputs": [
    {
     "name": "stdout",
     "output_type": "stream",
     "text": [
      "Part 2: 71503\n"
     ]
    }
   ],
   "source": [
    "t2 = int(num_r.findall(''.join([c for c in lines[0] if c != ' ']))[0])\n",
    "r2 = int(num_r.findall(''.join([c for c in lines[1] if c != ' ']))[0])\n",
    "\n",
    "print(f\"Part 2: {winning_ways(t2, r2)}\")"
   ]
  }
 ],
 "metadata": {
  "kernelspec": {
   "display_name": "Python 3 (ipykernel)",
   "language": "python",
   "name": "python3"
  },
  "language_info": {
   "codemirror_mode": {
    "name": "ipython",
    "version": 3
   },
   "file_extension": ".py",
   "mimetype": "text/x-python",
   "name": "python",
   "nbconvert_exporter": "python",
   "pygments_lexer": "ipython3",
   "version": "3.11.6"
  }
 },
 "nbformat": 4,
 "nbformat_minor": 5
}
