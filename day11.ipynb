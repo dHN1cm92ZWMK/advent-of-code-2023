{
 "cells": [
  {
   "cell_type": "code",
   "execution_count": 1,
   "id": "d5299aff-61f9-4551-b6d9-ba39b162f704",
   "metadata": {},
   "outputs": [],
   "source": [
    "input_file = \"day11/input\"\n",
    "starmap = [l.strip() for l in open(input_file, \"r\").readlines()]"
   ]
  },
  {
   "cell_type": "code",
   "execution_count": 2,
   "id": "bf68fdf9-4aa7-41f7-bf50-8ff2caed4b78",
   "metadata": {},
   "outputs": [
    {
     "name": "stdout",
     "output_type": "stream",
     "text": [
      "Part 1: 10173804\n",
      "Part 2: 634324905172\n"
     ]
    }
   ],
   "source": [
    "import itertools\n",
    "import functools\n",
    "\n",
    "def row(row, starmap):\n",
    "    return starmap[row]\n",
    "\n",
    "def column(col, starmap):\n",
    "    return ''.join([r[col] for r in starmap])\n",
    "\n",
    "empty_rows = [ri for ri in range(len(starmap)) if all([c == '.' for c in row(ri, starmap)])]\n",
    "empty_columns = [ci for ci in range(len(starmap[0])) if all([c == '.' for c in column(ci, starmap)])]\n",
    "\n",
    "galaxies = [(x, y) for y in range(len(starmap)) for x in range(len(starmap[0]))  if starmap[y][x] == '#']\n",
    "\n",
    "def recompute_galaxies(galaxies, er, ec, expansion): # expansion: 0 = same, 1 = part 1, 10^6 - 1 = part2\n",
    "    def recompute_pos(galaxy, er, ec, expansion):\n",
    "        ner = len(list(filter(lambda r: r < galaxy[1], er)))\n",
    "        nec = len(list(filter(lambda c: c < galaxy[0], ec)))\n",
    "        return (galaxy[0] + nec * expansion, galaxy[1] + ner * expansion)\n",
    "    return [recompute_pos(g, er, ec, expansion) for g in galaxies]\n",
    "    \n",
    "def distance(a, b):\n",
    "    return abs(a[0] - b[0]) + abs(a[1] - b[1])\n",
    "    \n",
    "galaxies_part1 = recompute_galaxies(galaxies, empty_rows, empty_columns, 1) \n",
    "combs = list(itertools.combinations(galaxies_part1, 2))\n",
    "print(f\"Part 1: {sum(itertools.starmap(distance, combs))}\")\n",
    "\n",
    "galaxies_part2 = recompute_galaxies(galaxies, empty_rows, empty_columns, 999_999) \n",
    "combs = list(itertools.combinations(galaxies_part2, 2))\n",
    "print(f\"Part 2: {sum(itertools.starmap(distance, combs))}\")"
   ]
  }
 ],
 "metadata": {
  "kernelspec": {
   "display_name": "Python 3 (ipykernel)",
   "language": "python",
   "name": "python3"
  },
  "language_info": {
   "codemirror_mode": {
    "name": "ipython",
    "version": 3
   },
   "file_extension": ".py",
   "mimetype": "text/x-python",
   "name": "python",
   "nbconvert_exporter": "python",
   "pygments_lexer": "ipython3",
   "version": "3.11.6"
  }
 },
 "nbformat": 4,
 "nbformat_minor": 5
}
