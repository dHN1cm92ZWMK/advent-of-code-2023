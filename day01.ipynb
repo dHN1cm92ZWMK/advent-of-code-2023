{
 "cells": [
  {
   "cell_type": "code",
   "execution_count": 10,
   "id": "e17c3ef2-881b-476c-8767-0eaef5df506f",
   "metadata": {},
   "outputs": [],
   "source": [
    "def get_calibration_value(str):\n",
    "    nums = [c for c in str if c.isnumeric()]\n",
    "    return int(f\"{nums[0]}{nums[-1]}\")"
   ]
  },
  {
   "cell_type": "code",
   "execution_count": 15,
   "id": "d3e17679-c278-452d-bc49-7c95bb0e883a",
   "metadata": {},
   "outputs": [
    {
     "name": "stdout",
     "output_type": "stream",
     "text": [
      "56108\n"
     ]
    }
   ],
   "source": [
    "input_file = 'day01/input'\n",
    "lines = open(input_file, 'r').readlines()\n",
    "cal_vals = map(get_calibration_value, lines)\n",
    "print(sum(cal_vals))"
   ]
  },
  {
   "cell_type": "code",
   "execution_count": 59,
   "id": "ed86501e-40e6-4232-8faf-b12a6f9744cf",
   "metadata": {},
   "outputs": [],
   "source": [
    "#digits = {\n",
    "#    0: ('0', 'zero'),\n",
    "#    1: ('1', 'one'),\n",
    "#    2: ('2', 'two'),\n",
    "#    3: ('3', 'three'),\n",
    "#    4: ('4', 'four'),\n",
    "#    5: ('5', 'five'),\n",
    "#    6: ('6', 'six'),\n",
    "#    7: ('7', 'seven'),\n",
    "#    8: ('8', 'eight'),\n",
    "#    9: ('9', 'nine')\n",
    "#}\n",
    "#\n",
    "#def get_calibration_value2(line):\n",
    "#    first, last = None, None\n",
    "#    f, l = None, None\n",
    "#    for k, v in digits.items():\n",
    "#        for va in v:\n",
    "#            i = line.find(va)\n",
    "#            if i >= 0 and (first is None or i < first):\n",
    "#                first = i\n",
    "#                f = k\n",
    "#            i = line.rfind(va)\n",
    "#            if i >= 0 and (last is None or i > last):\n",
    "#                last = i\n",
    "#                l = k\n",
    "#    return int(f\"{f}{l}\")\n",
    "    \n",
    "#import itertools\n",
    "#import functools\n",
    "#digits_2 = [[(i, k) for i in v] for k, v in digits.items()]\n",
    "#digits_2 = dict(functools.reduce(lambda x, y: x + y, digits_2, []))\n",
    "digits = {'0': 0,  'zero': 0, \n",
    "      '1': 1, 'one': 1, \n",
    "      '2': 2, 'two': 2, \n",
    "      '3': 3, 'three': 3, \n",
    "      '4': 4, 'four': 4, \n",
    "      '5': 5, 'five': 5, \n",
    "      '6': 6, 'six': 6, \n",
    "      '7': 7, 'seven': 7, \n",
    "      '8': 8, 'eight': 8, \n",
    "      '9': 9, 'nine': 9}\n",
    "def get_calibration_value2(line):\n",
    "    firsts = [(v, line.find(k)) for k, v in digits.items() if line.find(k) >= 0]\n",
    "    lasts = [(v, line.rfind(k)) for k, v in digits.items() if line.rfind(k) >= 0]\n",
    "    f = min(firsts, key=lambda x: x[1])[0]\n",
    "    l = max(lasts, key=lambda x: x[1])[0]\n",
    "    return int(f\"{f}{l}\")"
   ]
  },
  {
   "cell_type": "code",
   "execution_count": 60,
   "id": "71b85a86-4d91-4de2-a606-01bc38188cbb",
   "metadata": {},
   "outputs": [
    {
     "name": "stdout",
     "output_type": "stream",
     "text": [
      "55652\n"
     ]
    }
   ],
   "source": [
    "input_file = 'day01/input'\n",
    "lines = open(input_file, 'r').readlines()\n",
    "cal_vals = map(get_calibration_value2, lines)\n",
    "#print(list(cal_vals))\n",
    "print(sum(cal_vals))"
   ]
  },
  {
   "cell_type": "code",
   "execution_count": 42,
   "id": "9fae24ad-56ae-496e-b4dc-dd0a68c03867",
   "metadata": {},
   "outputs": [
    {
     "name": "stdout",
     "output_type": "stream",
     "text": [
      "{0: ('zero', '0'), 1: ('one', '1')}\n",
      "{'zero': 0, '0': 0, 'one': 1, '1': 1}\n"
     ]
    },
    {
     "data": {
      "text/plain": [
       "dict_keys([0, 1])"
      ]
     },
     "execution_count": 42,
     "metadata": {},
     "output_type": "execute_result"
    }
   ],
   "source": [
    "import itertools\n",
    "import functools\n",
    "d = {0: ('zero', '0'), 1:('one', '1')}\n",
    "transposed = [[(i, k) for i in v] for k, v in d.items()]\n",
    "\n",
    "transposed = dict(functools.reduce(lambda x, y: x + y, transposed, []))\n",
    "\n",
    "print(d)\n",
    "print(transposed)\n",
    "\n",
    "d.keys()"
   ]
  }
 ],
 "metadata": {
  "kernelspec": {
   "display_name": "Python 3 (ipykernel)",
   "language": "python",
   "name": "python3"
  },
  "language_info": {
   "codemirror_mode": {
    "name": "ipython",
    "version": 3
   },
   "file_extension": ".py",
   "mimetype": "text/x-python",
   "name": "python",
   "nbconvert_exporter": "python",
   "pygments_lexer": "ipython3",
   "version": "3.11.6"
  }
 },
 "nbformat": 4,
 "nbformat_minor": 5
}
