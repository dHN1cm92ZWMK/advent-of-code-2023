{
 "cells": [
  {
   "cell_type": "code",
   "execution_count": 1,
   "id": "89469f0f-9e9e-4b39-b747-cf72e5931d4b",
   "metadata": {},
   "outputs": [],
   "source": [
    "input_file = \"day07/input\"\n",
    "lines = map(str.strip, open(input_file, \"r\").readlines())\n",
    "\n",
    "import collections\n",
    "import itertools\n",
    "\n",
    "Hand = collections.namedtuple(\"Hand\", [\"cards\", \"bid\"])\n",
    "hands = list(itertools.starmap(lambda h, b: Hand(h, int(b)), map(lambda s: s.split(' '), lines)))"
   ]
  },
  {
   "cell_type": "code",
   "execution_count": 2,
   "id": "220ba7a3-862f-48d0-929c-fdd3367f6459",
   "metadata": {},
   "outputs": [
    {
     "name": "stdout",
     "output_type": "stream",
     "text": [
      "Part 1: 253910319\n"
     ]
    }
   ],
   "source": [
    "card_order = list(\"AKQJT98765432\")\n",
    "\n",
    "import functools\n",
    "import enum\n",
    "\n",
    "class HandType(enum.Enum):\n",
    "    FIVE_OF_KIND = 1\n",
    "    FOUR_OF_KIND = 2\n",
    "    FULL_HOUSE = 3\n",
    "    THREE_OF_KIND = 4\n",
    "    TWO_PAIR = 5\n",
    "    ONE_PAIR = 6\n",
    "    HIGH_CARD = 7\n",
    "\n",
    "def get_hand_type(hand):\n",
    "    sh = [(k, len(list(v))) for k, v in itertools.groupby(sorted(hand))]\n",
    "    \n",
    "    if any([x for x in sh if x[1] == 5]):\n",
    "        return HandType.FIVE_OF_KIND\n",
    "    if any([x for x in sh if x[1] == 4]):\n",
    "        return HandType.FOUR_OF_KIND\n",
    "    if any([x for x in sh if x[1] == 3]) and any([x for x in sh if x[1] == 2]):\n",
    "        return HandType.FULL_HOUSE\n",
    "    if any([x for x in sh if x[1] == 3]):\n",
    "        return HandType.THREE_OF_KIND\n",
    "    if len([x for x in sh if x[1] == 2]) == 2:\n",
    "        return HandType.TWO_PAIR\n",
    "    if any([x for x in sh if x[1] == 2]):\n",
    "        return HandType.ONE_PAIR\n",
    "    return HandType.HIGH_CARD\n",
    "\n",
    "def cmp_hands(h1, h2):\n",
    "    t1 = get_hand_type(h1.cards)\n",
    "    t2 = get_hand_type(h2.cards)\n",
    "    if t1 == t2:\n",
    "        # turn cards into their value\n",
    "        i = itertools.starmap(lambda c1, c2: (card_order.index(c1), card_order.index(c2)), zip(h1.cards, h2.cards))\n",
    "        # compute diff of card values between hands\n",
    "        i = itertools.starmap(lambda c1, c2: c2 - c1, i)\n",
    "        # return first non-zero difference\n",
    "        return [d for d in i if d != 0][0]\n",
    "    else:\n",
    "        return t2.value - t1.value\n",
    "\n",
    "\n",
    "sh = sorted(hands, key=functools.cmp_to_key(cmp_hands))\n",
    "\n",
    "ranked = zip(map(lambda h: h.bid, sh), range(1, len(sh) + 1))\n",
    "part1 = sum(itertools.starmap(int.__mul__, ranked))\n",
    "print(f\"Part 1: {part1}\")"
   ]
  },
  {
   "cell_type": "code",
   "execution_count": 3,
   "id": "76a366da-b9e8-49da-a005-001029cc4a2d",
   "metadata": {},
   "outputs": [
    {
     "name": "stdout",
     "output_type": "stream",
     "text": [
      "Part 2: 254083736\n"
     ]
    }
   ],
   "source": [
    "fst = lambda x: x[0]\n",
    "snd = lambda x: x[1]\n",
    "\n",
    "def sub_jokers(hand):\n",
    "    sh = [(k, len(list(v))) for k, v in itertools.groupby(sorted(hand)) if k != 'J']\n",
    "    cardinalities = list(map(snd, sh))\n",
    "    ma = max(cardinalities) if cardinalities else 1\n",
    "    replacement = [x[0] for x in sh if x[1] == ma][0] if cardinalities else 'A'\n",
    "    return hand.replace('J', replacement)\n",
    "    \n",
    "card_order2 = list(\"AKQT98765432J\")\n",
    "def cmp_hands2(h1, h2):\n",
    "    t1 = get_hand_type(sub_jokers(h1.cards))\n",
    "    t2 = get_hand_type(sub_jokers(h2.cards))\n",
    "    if t1 == t2:\n",
    "        # turn cards into their value\n",
    "        i = itertools.starmap(lambda c1, c2: (card_order2.index(c1), card_order2.index(c2)), zip(h1.cards, h2.cards))\n",
    "        # compute diff of card values between hands\n",
    "        i = itertools.starmap(lambda c1, c2: c2 - c1, i)\n",
    "        # return first non-zero difference\n",
    "        return [d for d in i if d != 0][0]\n",
    "    else:\n",
    "        return t2.value - t1.value\n",
    "\n",
    "sh2 = sorted(hands, key=functools.cmp_to_key(cmp_hands2))\n",
    "\n",
    "ranked = zip(map(lambda h: h.bid, sh2), range(1, len(sh2) + 1))\n",
    "part2 = sum(itertools.starmap(int.__mul__, ranked))\n",
    "print(f\"Part 2: {part2}\")"
   ]
  }
 ],
 "metadata": {
  "kernelspec": {
   "display_name": "Python 3 (ipykernel)",
   "language": "python",
   "name": "python3"
  },
  "language_info": {
   "codemirror_mode": {
    "name": "ipython",
    "version": 3
   },
   "file_extension": ".py",
   "mimetype": "text/x-python",
   "name": "python",
   "nbconvert_exporter": "python",
   "pygments_lexer": "ipython3",
   "version": "3.11.6"
  }
 },
 "nbformat": 4,
 "nbformat_minor": 5
}
